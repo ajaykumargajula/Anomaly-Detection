{
 "cells": [
  {
   "cell_type": "code",
   "execution_count": null,
   "metadata": {},
   "outputs": [],
   "source": [
    "import pandas as pd\n",
    "import numpy as np\n",
    "from statsmodels.tsa.seasonal import seasonal_decompose\n",
    "from statsmodels.tsa.stattools import acf\n",
    "from adtk.transformer import ClassicSeasonalDecomposition,CustomizedTransformerHD\n",
    "from adtk.detector import InterQuartileRangeAD"
   ]
  },
  {
   "cell_type": "code",
   "execution_count": null,
   "metadata": {},
   "outputs": [],
   "source": [
    "#data_raw=pd.read_csv(\"data.csv\")\n",
    "data_raw.columns=['timestamp', 'col']\n",
    "data_raw[\"timestamp\"]=pd.to_datetime(data_raw[\"timestamp\"])\n",
    "data_raw=data_raw.set_index(data_raw[\"timestamp\"])\n",
    "data_raw.drop([\"timestamp\"],axis=1,inplace=True)\n",
    "date_range=pd.date_range(start=min(data_raw.index),end=max(data_raw.index),freq=\"H\")\n",
    "data_raw=data_raw.reindex(date_range)\n",
    "data_raw.head()"
   ]
  },
  {
   "cell_type": "code",
   "execution_count": null,
   "metadata": {},
   "outputs": [],
   "source": [
    "ts_decomposition=seasonal_decompose(data_raw,freq=24)\n",
    "seasonal_de=np.abs(ts_decomposition.seasonal)"
   ]
  },
  {
   "cell_type": "code",
   "execution_count": null,
   "metadata": {},
   "outputs": [],
   "source": [
    "(data_raw-seasonal_de).head()"
   ]
  },
  {
   "cell_type": "code",
   "execution_count": null,
   "metadata": {},
   "outputs": [],
   "source": [
    "s=data_raw\n",
    "freq=24*7\n",
    "trend=False\n",
    "\n",
    "s_series_freq = s.index.freqstr\n",
    "freq_ = freq\n",
    "    \n",
    "starting_phase = 0\n",
    "        \n",
    "# get average dT\n",
    "s_dT = pd.Series(s.index).diff().mean()\n",
    "\n",
    "\n",
    "# get datum time\n",
    "s_datumTimestamp = s.index[0]\n",
    "\n",
    "# get phase shift\n",
    "approx_steps = (s.index[0] - s_datumTimestamp) / s_dT\n",
    "\n",
    "    \n",
    "# get seasonal pattern\n",
    "if trend:\n",
    "    sseasonal_ = getattr(seasonal_decompose(s, freq=freq_), \"seasonal\")[: freq_]\n",
    "    print(\"Trend is true\")\n",
    "else:\n",
    "    sseasonal_ = s.iloc[: freq_].copy()\n",
    "    for i in range(len(sseasonal_)):\n",
    "        sseasonal_.iloc[i] = s.iloc[i :: len(sseasonal_)].mean()\n",
    "        #print(sseasonal_)\n",
    "    \n",
    "    \n",
    "# remove trend\n",
    "if trend:\n",
    "    s_trend = getattr(seasonal_decompose(s, freq=freq_), \"trend\")\n",
    "    s_detrended = s - s_trend\n",
    "# get seasonal series and remove it from original\n",
    "phase_pattern = np.concatenate([np.arange(starting_phase, freq_), np.arange(starting_phase)])\n",
    "\n",
    "sdata=sseasonal_.values[phase_pattern[np.arange(len(s)) % freq_]]\n",
    "index=s.index       \n",
    "s_seasonal = pd.Series(sdata.ravel(),index)        \n",
    "\n",
    "if trend:\n",
    "    s_residual = s_detrended - s_seasonal\n",
    "else:\n",
    "    s_residual = s[\"in_p_cc\"]-s_seasonal\n",
    "    s_residual"
   ]
  },
  {
   "cell_type": "code",
   "execution_count": null,
   "metadata": {},
   "outputs": [],
   "source": [
    "s_residual=np.abs(s_residual)\n",
    "Q1,Q3=np.quantile(s_residual,[0.25,0.75])\n",
    "IQR=Q3-Q1\n",
    "lower_limit=Q1-(3*IQR)\n",
    "upper_limit=Q3+(3*IQR)\n",
    "outlier=[]\n",
    "for i in s_residual:\n",
    "    if (i<lower_limit) | (i>upper_limit):\n",
    "        outlier.append(i)\n",
    
   ]
  },
  {
   "cell_type": "code",
   "execution_count": null,
   "metadata": {},
   "outputs": [],
   "source": []
  },
  {
   "cell_type": "code",
   "execution_count": null,
   "metadata": {},
   "outputs": [],
   "source": []
  },
  {
   "cell_type": "code",
   "execution_count": null,
   "metadata": {},
   "outputs": [],
   "source": []
  },
  {
   "cell_type": "code",
   "execution_count": null,
   "metadata": {},
   "outputs": [],
   "source": []
  }
 ],
 "metadata": {
  "kernelspec": {
   "display_name": "Python 3",
   "language": "python",
   "name": "python3"
  },
  "language_info": {
   "codemirror_mode": {
    "name": "ipython",
    "version": 3
   },
   "file_extension": ".py",
   "mimetype": "text/x-python",
   "name": "python",
   "nbconvert_exporter": "python",
   "pygments_lexer": "ipython3",
   "version": "3.7.3"
  }
 },
 "nbformat": 4,
 "nbformat_minor": 2
}
